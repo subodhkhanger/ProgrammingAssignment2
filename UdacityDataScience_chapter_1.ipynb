{
  "nbformat": 4,
  "nbformat_minor": 0,
  "metadata": {
    "colab": {
      "name": "UdacityDataScience_chapter_1.ipynb",
      "provenance": [],
      "authorship_tag": "ABX9TyMoEzEev/aqT+0OBzQ2GwHW",
      "include_colab_link": true
    },
    "kernelspec": {
      "name": "python3",
      "display_name": "Python 3"
    }
  },
  "cells": [
    {
      "cell_type": "markdown",
      "metadata": {
        "id": "view-in-github",
        "colab_type": "text"
      },
      "source": [
        "<a href=\"https://colab.research.google.com/github/subodhkhanger/ProgrammingAssignment2/blob/master/UdacityDataScience_chapter_1.ipynb\" target=\"_parent\"><img src=\"https://colab.research.google.com/assets/colab-badge.svg\" alt=\"Open In Colab\"/></a>"
      ]
    },
    {
      "cell_type": "code",
      "metadata": {
        "id": "iC_mUWdKMJGq",
        "colab_type": "code",
        "colab": {
          "base_uri": "https://localhost:8080/",
          "height": 655
        },
        "outputId": "883d15ac-a15a-46dc-8a69-e87f6c8e283f"
      },
      "source": [
        "import numpy as np\n",
        "import pandas as pd\n",
        "\n",
        "'''\n",
        "The following code is to help you play with the concept of Dataframe in Pandas.\n",
        "\n",
        "You can think of a Dataframe as something with rows and columns. It is\n",
        "similar to a spreadsheet, a database table, or R's data.frame object.\n",
        "\n",
        "*This playground is inspired by Greg Reda's post on Intro to Pandas Data Structures:\n",
        "http://www.gregreda.com/2013/10/26/intro-to-pandas-data-structures/\n",
        "'''\n",
        "\n",
        "'''\n",
        "To create a dataframe, you can pass a dictionary of lists to the Dataframe\n",
        "constructor:\n",
        "1) The key of the dictionary will be the column name\n",
        "2) The associating list will be the values within that column.\n",
        "'''\n",
        "# Change False to True to see Dataframes in action\n",
        "if True:\n",
        "    data = {'year': [2010, 2011, 2012, 2011, 2012, 2010, 2011, 2012],\n",
        "            'team': ['Bears', 'Bears', 'Bears', 'Packers', 'Packers', 'Lions',\n",
        "                     'Lions', 'Lions'],\n",
        "            'wins': [11, 8, 10, 15, 11, 6, 10, 4],\n",
        "            'losses': [5, 8, 6, 1, 5, 10, 6, 12]}\n",
        "    football = pd.DataFrame(data)\n",
        "    print (football)\n",
        "\n",
        "'''\n",
        "Pandas also has various functions that will help you understand some basic\n",
        "information about your data frame. Some of these functions are:\n",
        "1) dtypes: to get the datatype for each column\n",
        "2) describe: useful for seeing basic statistics of the dataframe's numerical\n",
        "   columns\n",
        "3) head: displays the first five rows of the dataset\n",
        "4) tail: displays the last five rows of the dataset\n",
        "'''\n",
        "# Change False to True to see these functions in action\n",
        "if True:\n",
        "    data = {'year': [2010, 2011, 2012, 2011, 2012, 2010, 2011, 2012],\n",
        "            'team': ['Bears', 'Bears', 'Bears', 'Packers', 'Packers', 'Lions',\n",
        "                     'Lions', 'Lions'],\n",
        "            'wins': [11, 8, 10, 15, 11, 6, 10, 4],\n",
        "            'losses': [5, 8, 6, 1, 5, 10, 6, 12]}\n",
        "    football = pd.DataFrame(data)\n",
        "    print (football.dtypes)\n",
        "    print (\"\")\n",
        "    print (football.describe())\n",
        "    print (\"\")\n",
        "    print (football.head())\n",
        "    print (\"\")\n",
        "    print (football.tail())\n"
      ],
      "execution_count": null,
      "outputs": [
        {
          "output_type": "stream",
          "text": [
            "   year     team  wins  losses\n",
            "0  2010    Bears    11       5\n",
            "1  2011    Bears     8       8\n",
            "2  2012    Bears    10       6\n",
            "3  2011  Packers    15       1\n",
            "4  2012  Packers    11       5\n",
            "5  2010    Lions     6      10\n",
            "6  2011    Lions    10       6\n",
            "7  2012    Lions     4      12\n",
            "year       int64\n",
            "team      object\n",
            "wins       int64\n",
            "losses     int64\n",
            "dtype: object\n",
            "\n",
            "              year       wins     losses\n",
            "count     8.000000   8.000000   8.000000\n",
            "mean   2011.125000   9.375000   6.625000\n",
            "std       0.834523   3.377975   3.377975\n",
            "min    2010.000000   4.000000   1.000000\n",
            "25%    2010.750000   7.500000   5.000000\n",
            "50%    2011.000000  10.000000   6.000000\n",
            "75%    2012.000000  11.000000   8.500000\n",
            "max    2012.000000  15.000000  12.000000\n",
            "\n",
            "   year     team  wins  losses\n",
            "0  2010    Bears    11       5\n",
            "1  2011    Bears     8       8\n",
            "2  2012    Bears    10       6\n",
            "3  2011  Packers    15       1\n",
            "4  2012  Packers    11       5\n",
            "\n",
            "   year     team  wins  losses\n",
            "3  2011  Packers    15       1\n",
            "4  2012  Packers    11       5\n",
            "5  2010    Lions     6      10\n",
            "6  2011    Lions    10       6\n",
            "7  2012    Lions     4      12\n"
          ],
          "name": "stdout"
        }
      ]
    },
    {
      "cell_type": "code",
      "metadata": {
        "id": "dUeL9yTgNCEB",
        "colab_type": "code",
        "colab": {}
      },
      "source": [
        "from pandas import DataFrame, Series\n",
        "\n",
        "#################\n",
        "# Syntax Reminder:\n",
        "#\n",
        "# The following code would create a two-column pandas DataFrame\n",
        "# named df with columns labeled 'name' and 'age':\n",
        "#\n",
        "# people = ['Sarah', 'Mike', 'Chrisna']\n",
        "# ages  =  [28, 32, 25]\n",
        "# df = DataFrame({'name' : Series(people),\n",
        "#                 'age'  : Series(ages)})\n",
        "\n",
        "def create_dataframe():\n",
        "    '''\n",
        "    Create a pandas dataframe called 'olympic_medal_counts_df' containing\n",
        "    the data from the table of 2014 Sochi winter olympics medal counts.  \n",
        "\n",
        "    The columns for this dataframe should be called \n",
        "    'country_name', 'gold', 'silver', and 'bronze'.  \n",
        "\n",
        "    There is no need to  specify row indexes for this dataframe \n",
        "    (in this case, the rows will automatically be assigned numbered indexes).\n",
        "    \n",
        "    You do not need to call the function in your code when running it in the\n",
        "    browser - the grader will do that automatically when you submit or test it.\n",
        "    '''\n",
        "\n",
        "    countries = ['Russian Fed.', 'Norway', 'Canada', 'United States',\n",
        "                 'Netherlands', 'Germany', 'Switzerland', 'Belarus',\n",
        "                 'Austria', 'France', 'Poland', 'China', 'Korea', \n",
        "                 'Sweden', 'Czech Republic', 'Slovenia', 'Japan',\n",
        "                 'Finland', 'Great Britain', 'Ukraine', 'Slovakia',\n",
        "                 'Italy', 'Latvia', 'Australia', 'Croatia', 'Kazakhstan']\n",
        "\n",
        "    gold = [13, 11, 10, 9, 8, 8, 6, 5, 4, 4, 4, 3, 3, 2, 2, 2, 1, 1, 1, 1, 1, 0, 0, 0, 0, 0]\n",
        "    silver = [11, 5, 10, 7, 7, 6, 3, 0, 8, 4, 1, 4, 3, 7, 4, 2, 4, 3, 1, 0, 0, 2, 2, 2, 1, 0]\n",
        "    bronze = [9, 10, 5, 12, 9, 5, 2, 1, 5, 7, 1, 2, 2, 6, 2, 4, 3, 1, 2, 1, 0, 6, 2, 1, 0, 1]\n",
        "\n",
        "    # your code here\n",
        "    #second Commit\n",
        "    \n",
        "    olympic_medal_counts_df = DataFrame({'country_name' : Series(countries),'gold' :Series(gold) ,\n",
        "    'silver': Series(silver) , 'bronze': Series(bronze)})\n",
        "\n",
        "    return olympic_medal_counts_df"
      ],
      "execution_count": null,
      "outputs": []
    },
    {
      "cell_type": "code",
      "metadata": {
        "id": "JpyUN3df_6d-",
        "colab_type": "code",
        "colab": {}
      },
      "source": [
        ""
      ],
      "execution_count": null,
      "outputs": []
    }
  ]
}